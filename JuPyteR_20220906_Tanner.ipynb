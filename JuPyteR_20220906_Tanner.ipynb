{
 "cells": [
  {
   "cell_type": "markdown",
   "metadata": {
    "collapsed": true
   },
   "source": [
    "# My Jupyter Notebook on IBM Watson Studio"
   ]
  },
  {
   "cell_type": "markdown",
   "metadata": {},
   "source": [
    "**Andrew Tanner**  \n",
    "GIS Consultant"
   ]
  },
  {
   "cell_type": "markdown",
   "metadata": {},
   "source": [
    "*I am interested in data science because when I started out in my field, there was a data desert.  Now there is a data glut and I don't think the end result has improved all that much.*"
   ]
  },
  {
   "cell_type": "markdown",
   "metadata": {},
   "source": [
    "### Now we will print a cheer for Watson"
   ]
  },
  {
   "cell_type": "code",
   "execution_count": 4,
   "metadata": {},
   "outputs": [
    {
     "name": "stdout",
     "output_type": "stream",
     "text": [
      "2\n",
      "4\n",
      "6\n",
      "8\n",
      "Who do we appreciate?  WATSON!\n"
     ]
    }
   ],
   "source": [
    "that = 0\n",
    "while that < 8:\n",
    "    that += 2\n",
    "    print(that)\n",
    "print('Who do we appreciate?  WATSON!')"
   ]
  },
  {
   "cell_type": "markdown",
   "metadata": {},
   "source": [
    "### Things to do tonight\n",
    "- Pick up kids at ball game\n",
    "- Give kids baths\n",
    "- Put kids to bed\n",
    "- Have a drink\n",
    "--- \n",
    "\n",
    "### Now a table that totally makes sense\n",
    "\n",
    "| Employee | Likes | Dislikes |\n",
    "| -------------- | ------------- | ------------- |\n",
    "| Pam | Jim | Angela |\n",
    "| Dwight | Angela | Andy |\n",
    "| Michael | Ryan | Toby |\n",
    "| Kevin | Cookies | Numbers |\n",
    "| Angela | Cats | Pam |"
   ]
  },
  {
   "cell_type": "code",
   "execution_count": null,
   "metadata": {},
   "outputs": [],
   "source": []
  }
 ],
 "metadata": {
  "kernelspec": {
   "display_name": "Python 3.9",
   "language": "python",
   "name": "python3"
  },
  "language_info": {
   "codemirror_mode": {
    "name": "ipython",
    "version": 3
   },
   "file_extension": ".py",
   "mimetype": "text/x-python",
   "name": "python",
   "nbconvert_exporter": "python",
   "pygments_lexer": "ipython3",
   "version": "3.9.12"
  }
 },
 "nbformat": 4,
 "nbformat_minor": 1
}
